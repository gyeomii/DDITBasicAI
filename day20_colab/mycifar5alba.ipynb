{
 "cells": [
  {
   "cell_type": "code",
   "execution_count": 1,
   "id": "03e56b42",
   "metadata": {},
   "outputs": [
    {
     "name": "stdout",
     "output_type": "stream",
     "text": [
      "313/313 [==============================] - 6s 3ms/step - loss: 0.8730 - accuracy: 0.7088\n",
      "Test accuracy: 0.7088000178337097\n",
      "313/313 [==============================] - 1s 1ms/step\n"
     ]
    }
   ],
   "source": [
    "import numpy as np\n",
    "import matplotlib.pyplot as plt\n",
    "import tensorflow as tf\n",
    "from tensorflow import keras\n",
    "from keras import datasets, models, layers\n",
    "\n",
    "\n",
    "class_names = ['airplane', 'automobile', 'bird', 'cat', 'deer', 'dog', 'frog', 'horse', 'ship', 'truck']\n",
    "\n",
    "train_images = np.load(\"train_images.npy\")\n",
    "train_labels = np.load(\"train_labels.npy\")\n",
    "test_images = np.load(\"test_images.npy\")\n",
    "test_labels = np.load(\"test_labels.npy\")\n",
    " \n",
    "train_images = train_images.reshape((50000, 32, 32, 3))\n",
    "test_images = test_images.reshape((10000, 32, 32, 3))\n",
    "\n",
    " \n",
    "train_images = train_images/255.0\n",
    "test_images = test_images/255.0\n",
    " \n",
    "\n",
    "model = tf.keras.models.load_model('mycifar.h5')\n",
    " \n",
    "test_loss, test_acc = model.evaluate(test_images, test_labels)\n",
    " \n",
    "print('Test accuracy:', test_acc)\n",
    " \n",
    "predictions = model.predict(test_images)\n",
    "\n",
    "\n"
   ]
  },
  {
   "cell_type": "code",
   "execution_count": null,
   "id": "2f0dd1af",
   "metadata": {},
   "outputs": [],
   "source": []
  }
 ],
 "metadata": {
  "kernelspec": {
   "display_name": "Python 3",
   "language": "python",
   "name": "python3"
  },
  "language_info": {
   "codemirror_mode": {
    "name": "ipython",
    "version": 3
   },
   "file_extension": ".py",
   "mimetype": "text/x-python",
   "name": "python",
   "nbconvert_exporter": "python",
   "pygments_lexer": "ipython3",
   "version": "3.8.8"
  }
 },
 "nbformat": 4,
 "nbformat_minor": 5
}
